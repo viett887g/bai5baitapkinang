{
  "nbformat": 4,
  "nbformat_minor": 0,
  "metadata": {
    "colab": {
      "provenance": [],
      "authorship_tag": "ABX9TyMKIJHM/L7NtkgK9/S4fDj5",
      "include_colab_link": true
    },
    "kernelspec": {
      "name": "python3",
      "display_name": "Python 3"
    },
    "language_info": {
      "name": "python"
    }
  },
  "cells": [
    {
      "cell_type": "markdown",
      "metadata": {
        "id": "view-in-github",
        "colab_type": "text"
      },
      "source": [
        "<a href=\"https://colab.research.google.com/github/viett887g/bai5baitapkinang/blob/main/baitap5.ipynb\" target=\"_parent\"><img src=\"https://colab.research.google.com/assets/colab-badge.svg\" alt=\"Open In Colab\"/></a>"
      ]
    },
    {
      "cell_type": "markdown",
      "source": [
        "Bài 5: Sử dụng LogisticRegressionCV để\n",
        "đơn giản hóa quá trình huấn luyện mô hình\n",
        "với k-fold cross-validation.\n",
        "- Đọc dữ liệu (ex2data2.txt);\n",
        "- Chuẩn hóa dữ liệu (lưu ý: chỉ chuẩn\n",
        "hóa X);\n",
        "- Phân chia train – test theo tỉ lệ 70% -\n",
        "30%;\n",
        "- Khởi tạo mô hình\n",
        "LogisticRegressionCV với tùy chọn\n",
        "cv=10, random_state = <số nguyên\n",
        "tùy ý bạn> và áp dụng với tập\n",
        "(X_train, y_train);\n",
        "- Sử dụng mô hình ở trên để dự đoán\n",
        "y_hat đối với tập X_test;\n",
        "- Đánh giá hiệu năng của mô hình\n",
        "bằng accuracy_score đối với tập\n",
        "(y_hat, y_test)."
      ],
      "metadata": {
        "id": "GgfG_adebUjC"
      }
    },
    {
      "cell_type": "code",
      "execution_count": 47,
      "metadata": {
        "id": "zgLEVDVTbN-7"
      },
      "outputs": [],
      "source": [
        "import numpy as np\n",
        "import os\n",
        "from sklearn.model_selection import train_test_split\n",
        "from sklearn.metrics import accuracy_score\n",
        "from sklearn import preprocessing\n",
        "from sklearn.linear_model import LogisticRegression\n",
        "from sklearn.model_selection import KFold\n",
        "from sklearn.datasets import load_iris\n",
        "from sklearn.linear_model import LogisticRegression\n",
        "from sklearn.model_selection import cross_val_predict\n",
        "from sklearn.model_selection import GridSearchCV\n",
        "from sklearn.linear_model import LogisticRegressionCV"
      ]
    },
    {
      "cell_type": "code",
      "source": [
        "def readData(filePath: str, filename: str):\n",
        "  D = np.loadtxt(os.path.join('/content','ex2data2.txt'), delimiter=',')\n",
        "  X, y = D[:, :-1], D[:, -1]\n",
        "#Bước 2: Điều chỉnh dữ liệu - do đây là mô hình HQTT nên chấp nhận scale cả vector y\n",
        "  scaler = MinMaxScaler()\n",
        "  scaler.fit(X)\n",
        "  X = scaler.transform(X)\n",
        "#Bước 3: Phân chia train - test theo tỉ lệ 70% - 30%\n",
        "  X_train, X_test, y_train, y_test = train_test_split(X, y, test_size=0.30, random_state=15)\n",
        "  return  X_train, X_test, y_train, y_test"
      ],
      "metadata": {
        "id": "ckxZbUe0bd7_"
      },
      "execution_count": 48,
      "outputs": []
    },
    {
      "cell_type": "code",
      "source": [
        "def k_foldCV(X,y,x):\n",
        "  model = LogisticRegressionCV(cv=10, random_state=15).fit(X, y)\n",
        "  y_hat = model.predict(x)\n",
        "  return y_hat"
      ],
      "metadata": {
        "id": "bbZrFjs2bq6x"
      },
      "execution_count": 59,
      "outputs": []
    },
    {
      "cell_type": "code",
      "source": [
        "def acc_score(y, y_hat):\n",
        "    result= accuracy_score(y.flatten(), y_hat.flatten())\n",
        "    return  result"
      ],
      "metadata": {
        "id": "oeikXvoKcLcJ"
      },
      "execution_count": 50,
      "outputs": []
    },
    {
      "cell_type": "code",
      "source": [
        "def main():\n",
        "    X_train, X_test, y_train, y_test = readData('/content','ex2data2.txt')\n",
        "    print(\"\\n su dung mo hinh logistic\")\n",
        "    y_hat=k_foldCV(X_train,y_train,X_test)\n",
        "    print(\"y du doan la \",y_hat)\n",
        "    print('\\n Chỉ số Accuracy: ', acc_score(y_hat, y_test))\n",
        "    print(\"\\n\")\n",
        "if __name__ == \"__main__\":\n",
        "    main()"
      ],
      "metadata": {
        "colab": {
          "base_uri": "https://localhost:8080/"
        },
        "id": "3dPgc95icRL4",
        "outputId": "bc4d11ed-c3cb-4467-c935-7d23f906e73f"
      },
      "execution_count": 62,
      "outputs": [
        {
          "output_type": "stream",
          "name": "stdout",
          "text": [
            "\n",
            " su dung mo hinh logistic\n",
            "y du doan la  [0. 1. 0. 0. 0. 0. 1. 1. 1. 0. 1. 1. 1. 1. 1. 0. 0. 0. 1. 1. 0. 0. 1. 0.\n",
            " 0. 1. 0. 1. 1. 0. 1. 1. 1. 0. 1. 0.]\n",
            "\n",
            " Chỉ số Accuracy:  0.5\n",
            "\n",
            "\n"
          ]
        }
      ]
    }
  ]
}